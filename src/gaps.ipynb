{
 "cells": [
  {
   "cell_type": "code",
   "execution_count": 2,
   "metadata": {},
   "outputs": [],
   "source": [
    "from Bio import SeqIO"
   ]
  },
  {
   "cell_type": "code",
   "execution_count": 4,
   "metadata": {},
   "outputs": [],
   "source": [
    "def get_gaps_and_lenght(path):\n",
    "    longest_scaffold = ''\n",
    "    for record in SeqIO.parse(path, 'fasta'):\n",
    "        longest_scaffold = record.seq if len(record.seq) > len(longest_scaffold) else longest_scaffold\n",
    "\n",
    "    gaps, prev, lenght = 0, '', 0\n",
    "    for n in longest_scaffold:\n",
    "        if n == 'N':\n",
    "            lenght += 1\n",
    "            if prev != 'N':\n",
    "                gaps += 1\n",
    "        prev = n\n",
    "\n",
    "    print('Гепы:', gaps, '\\nОбщая длина:', lenght)"
   ]
  },
  {
   "cell_type": "code",
   "execution_count": 8,
   "metadata": {},
   "outputs": [
    {
     "name": "stdout",
     "output_type": "stream",
     "text": [
      "Исходный скаффолд:\n",
      "Гепы: 71 \n",
      "Общая длина: 7207\n"
     ]
    }
   ],
   "source": [
    "print('Исходный скаффолд:')\n",
    "get_gaps_and_lenght('../../../scaf/out_scaffold.fa')"
   ]
  },
  {
   "cell_type": "code",
   "execution_count": 7,
   "metadata": {},
   "outputs": [
    {
     "name": "stdout",
     "output_type": "stream",
     "text": [
      "Скаффолд после gap_close:\n",
      "Гепы: 12 \n",
      "Общая длина: 2244\n"
     ]
    }
   ],
   "source": [
    "print('Скаффолд после gap_close:')\n",
    "get_gaps_and_lenght('../../../out_gapClosed.fa')"
   ]
  }
 ],
 "metadata": {
  "kernelspec": {
   "display_name": "Python 3",
   "language": "python",
   "name": "python3"
  },
  "language_info": {
   "codemirror_mode": {
    "name": "ipython",
    "version": 3
   },
   "file_extension": ".py",
   "mimetype": "text/x-python",
   "name": "python",
   "nbconvert_exporter": "python",
   "pygments_lexer": "ipython3",
   "version": "3.10.12"
  }
 },
 "nbformat": 4,
 "nbformat_minor": 2
}

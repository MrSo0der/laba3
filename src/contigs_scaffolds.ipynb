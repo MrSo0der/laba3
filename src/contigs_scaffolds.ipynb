{
 "cells": [
  {
   "cell_type": "code",
   "execution_count": 22,
   "metadata": {},
   "outputs": [],
   "source": [
    "from Bio import SeqIO"
   ]
  },
  {
   "cell_type": "code",
   "execution_count": 23,
   "metadata": {},
   "outputs": [],
   "source": [
    "def analysis(path, obj):\n",
    "    f = open(path, 'r', encoding='utf-8')\n",
    "\n",
    "    print(f'Общее количество {obj}ов:', len(list(SeqIO.parse(f, 'fasta'))))\n",
    "    f.seek(0)\n",
    "\n",
    "    total_lenght, lenghts = 0, []\n",
    "    for record in SeqIO.parse(f, 'fasta'):\n",
    "        lenght = len(record.seq)\n",
    "        total_lenght += lenght\n",
    "        lenghts.append(lenght)\n",
    "    print('Общая длина:', total_lenght)\n",
    "\n",
    "    lenghts = sorted(lenghts,reverse=True)\n",
    "    print(f'Длина самого длинного {obj}а:', lenghts[0])\n",
    "\n",
    "    half_total, i = 0, -1\n",
    "    while half_total < total_lenght * 0.5:\n",
    "        i += 1\n",
    "        half_total += lenghts[i]\n",
    "    print('N50:', lenghts[i])"
   ]
  },
  {
   "cell_type": "code",
   "execution_count": 24,
   "metadata": {},
   "outputs": [
    {
     "name": "stdout",
     "output_type": "stream",
     "text": [
      "Общее количество контигов: 641\n",
      "Общая длина: 3926058\n",
      "Длина самого длинного контига: 158295\n",
      "N50: 52797\n"
     ]
    }
   ],
   "source": [
    "analysis('../../../pe/out_contig.fa', 'контиг')"
   ]
  },
  {
   "cell_type": "code",
   "execution_count": 25,
   "metadata": {},
   "outputs": [
    {
     "name": "stdout",
     "output_type": "stream",
     "text": [
      "Общее количество скаффолдов: 71\n",
      "Общая длина: 3875920\n",
      "Длина самого длинного скаффолда: 3834838\n",
      "N50: 3834838\n"
     ]
    }
   ],
   "source": [
    "analysis('../../../scaf/out_scaffold.fa', 'скаффолд')"
   ]
  }
 ],
 "metadata": {
  "kernelspec": {
   "display_name": "Python 3",
   "language": "python",
   "name": "python3"
  },
  "language_info": {
   "codemirror_mode": {
    "name": "ipython",
    "version": 3
   },
   "file_extension": ".py",
   "mimetype": "text/x-python",
   "name": "python",
   "nbconvert_exporter": "python",
   "pygments_lexer": "ipython3",
   "version": "3.10.12"
  }
 },
 "nbformat": 4,
 "nbformat_minor": 2
}

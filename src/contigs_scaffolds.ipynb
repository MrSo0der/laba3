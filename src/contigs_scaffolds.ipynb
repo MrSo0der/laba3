{
 "cells": [
  {
   "cell_type": "code",
   "execution_count": 4,
   "metadata": {},
   "outputs": [],
   "source": [
    "from Bio import SeqIO"
   ]
  },
  {
   "cell_type": "code",
   "execution_count": 2,
   "metadata": {},
   "outputs": [],
   "source": [
    "f = open('../../../scaf/out_scaffold.fa', 'r', encoding='utf-8')"
   ]
  },
  {
   "cell_type": "code",
   "execution_count": 6,
   "metadata": {},
   "outputs": [],
   "source": [
    "f = open('../../../pe/out_contig.fa', 'r', encoding='utf-8')"
   ]
  },
  {
   "cell_type": "code",
   "execution_count": 7,
   "metadata": {},
   "outputs": [
    {
     "name": "stdout",
     "output_type": "stream",
     "text": [
      "Общее количество контигов/скаффолдов: 641\n"
     ]
    }
   ],
   "source": [
    "f.seek(0)\n",
    "print('Общее количество контигов/скаффолдов:', len(list(SeqIO.parse(f, 'fasta'))))"
   ]
  },
  {
   "cell_type": "code",
   "execution_count": 64,
   "metadata": {},
   "outputs": [
    {
     "name": "stdout",
     "output_type": "stream",
     "text": [
      "Общая длина: 3926058\n"
     ]
    }
   ],
   "source": [
    "f.seek(0)\n",
    "total_lenght, lenghts = 0, []\n",
    "for record in SeqIO.parse(f, 'fasta'):\n",
    "    lenght = len(record.seq)\n",
    "    total_lenght += lenght\n",
    "    lenghts.append(lenght)\n",
    "print('Общая длина:', total_lenght)"
   ]
  },
  {
   "cell_type": "code",
   "execution_count": 67,
   "metadata": {},
   "outputs": [
    {
     "name": "stdout",
     "output_type": "stream",
     "text": [
      "Длина самого длинного контига/скаффолда: 158295\n"
     ]
    }
   ],
   "source": [
    "lenghts = sorted(lenghts,reverse=True)\n",
    "print('Длина самого длинного контига/скаффолда:', lenghts[0])"
   ]
  },
  {
   "cell_type": "code",
   "execution_count": 68,
   "metadata": {},
   "outputs": [
    {
     "name": "stdout",
     "output_type": "stream",
     "text": [
      "N50: 52797\n"
     ]
    }
   ],
   "source": [
    "half_total, i = 0, -1\n",
    "while half_total < total_lenght * 0.5:\n",
    "    i += 1\n",
    "    half_total += lenghts[i]\n",
    "print('N50:', lenghts[i])"
   ]
  },
  {
   "cell_type": "code",
   "execution_count": 48,
   "metadata": {},
   "outputs": [],
   "source": [
    "f.close()"
   ]
  }
 ],
 "metadata": {
  "kernelspec": {
   "display_name": "Python 3",
   "language": "python",
   "name": "python3"
  },
  "language_info": {
   "codemirror_mode": {
    "name": "ipython",
    "version": 3
   },
   "file_extension": ".py",
   "mimetype": "text/x-python",
   "name": "python",
   "nbconvert_exporter": "python",
   "pygments_lexer": "ipython3",
   "version": "3.10.12"
  }
 },
 "nbformat": 4,
 "nbformat_minor": 2
}

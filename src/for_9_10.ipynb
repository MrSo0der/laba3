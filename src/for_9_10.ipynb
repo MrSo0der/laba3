{
 "cells": [
  {
   "cell_type": "code",
   "execution_count": 37,
   "metadata": {},
   "outputs": [],
   "source": [
    "from Bio import SeqIO\n",
    "\n",
    "\n",
    "def analysis(path, obj):\n",
    "    f = open(path, 'r', encoding='utf-8')\n",
    "\n",
    "    print(f'Общее количество {obj}ов:', len(list(SeqIO.parse(f, 'fasta'))))\n",
    "    f.seek(0)\n",
    "\n",
    "    total_lenght, lenghts = 0, []\n",
    "    for record in SeqIO.parse(f, 'fasta'):\n",
    "        lenght = len(record.seq)\n",
    "        total_lenght += lenght\n",
    "        lenghts.append(lenght)\n",
    "    print('Общая длина:', total_lenght)\n",
    "\n",
    "    lenghts = sorted(lenghts,reverse=True)\n",
    "    print(f'Длина самого длинного {obj}а:', lenghts[0])\n",
    "\n",
    "    half_total, i = 0, -1\n",
    "    while half_total < total_lenght * 0.5:\n",
    "        i += 1\n",
    "        half_total += lenghts[i]\n",
    "    print('N50:', lenghts[i], '\\nL50:', i+1)\n",
    "\n",
    "    half_total, i = 0, -1\n",
    "    while half_total < total_lenght * 0.9:\n",
    "        i += 1\n",
    "        half_total += lenghts[i]\n",
    "    print('N90:', lenghts[i])\n",
    "\n",
    "def get_gaps_and_lenght(path):\n",
    "    longest_scaffold = ''\n",
    "    for record in SeqIO.parse(path, 'fasta'):\n",
    "        longest_scaffold = record.seq if len(record.seq) > len(longest_scaffold) else longest_scaffold\n",
    "\n",
    "    gaps, prev, lenght = 0, '', 0\n",
    "    for n in longest_scaffold:\n",
    "        if n == 'N':\n",
    "            lenght += 1\n",
    "            if prev != 'N':\n",
    "                gaps += 1\n",
    "        prev = n\n",
    "\n",
    "    print('Гепы:', gaps, '\\nОбщая длина:', lenght)"
   ]
  },
  {
   "cell_type": "code",
   "execution_count": 38,
   "metadata": {},
   "outputs": [
    {
     "name": "stdout",
     "output_type": "stream",
     "text": [
      "Общее количество контигов: 3963\n",
      "Общая длина: 3919282\n",
      "Длина самого длинного контига: 19949\n",
      "N50: 3110 \n",
      "L50: 340\n",
      "N90: 641\n",
      "\n",
      "Общее количество скаффолдов: 606\n",
      "Общая длина: 3865199\n",
      "Длина самого длинного скаффолда: 740658\n",
      "N50: 439412 \n",
      "L50: 4\n",
      "N90: 106975\n",
      "\n",
      "Исходный самый длинный скаффолд:\n",
      "Гепы: 378 \n",
      "Общая длина: 20152\n",
      "\n",
      "Самый длинный скаффолд после gap_close:\n",
      "Гепы: 24 \n",
      "Общая длина: 9257\n"
     ]
    }
   ],
   "source": [
    "analysis('../../../10/out_contig.fa', 'контиг')\n",
    "print('')\n",
    "analysis('../../../10/out_scaffold.fa', 'скаффолд')\n",
    "print('\\nИсходный самый длинный скаффолд:')\n",
    "get_gaps_and_lenght('../../../10/out_scaffold.fa')\n",
    "print('\\nСамый длинный скаффолд после gap_close:')\n",
    "get_gaps_and_lenght('../../../10/out_gapClosed.fa')"
   ]
  },
  {
   "cell_type": "code",
   "execution_count": 39,
   "metadata": {},
   "outputs": [
    {
     "name": "stdout",
     "output_type": "stream",
     "text": [
      "Общее количество контигов: 641\n",
      "Общая длина: 3926058\n",
      "Длина самого длинного контига: 158295\n",
      "N50: 52797 \n",
      "L50: 24\n",
      "N90: 11787\n",
      "\n",
      "Общее количество скаффолдов: 71\n",
      "Общая длина: 3875920\n",
      "Длина самого длинного скаффолда: 3834838\n",
      "N50: 3834838 \n",
      "L50: 1\n",
      "N90: 3834838\n",
      "\n",
      "Исходный самый длинный скаффолд:\n",
      "Гепы: 71 \n",
      "Общая длина: 7207\n",
      "\n",
      "Самый длинный скаффолд после gap_close:\n",
      "Гепы: 12 \n",
      "Общая длина: 2244\n"
     ]
    }
   ],
   "source": [
    "analysis('../../../pe/out_contig.fa', 'контиг')\n",
    "print('')\n",
    "analysis('../../../scaf/out_scaffold.fa', 'скаффолд')\n",
    "print('\\nИсходный самый длинный скаффолд:')\n",
    "get_gaps_and_lenght('../../../scaf/out_scaffold.fa')\n",
    "print('\\nСамый длинный скаффолд после gap_close:')\n",
    "get_gaps_and_lenght('../../../out_gapClosed.fa')"
   ]
  }
 ],
 "metadata": {
  "kernelspec": {
   "display_name": "Python 3",
   "language": "python",
   "name": "python3"
  },
  "language_info": {
   "codemirror_mode": {
    "name": "ipython",
    "version": 3
   },
   "file_extension": ".py",
   "mimetype": "text/x-python",
   "name": "python",
   "nbconvert_exporter": "python",
   "pygments_lexer": "ipython3",
   "version": "3.10.12"
  }
 },
 "nbformat": 4,
 "nbformat_minor": 2
}
